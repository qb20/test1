{
 "cells": [
  {
   "cell_type": "markdown",
   "metadata": {},
   "source": [
    "Q2. A team of plantation planners are concerned about the yield of oil palm trees, which seems to fluctuate. They have collected a set of data and needed help in analysing on how external factors influence fresh fruit bunch (FFB) yield. Some experts are of opinion that the flowering of oil palm tree determines the FFB yield, and are linked to the external factors. Perform the analysis, which requires some study on the background of oil palm tree physiology. (refer attachment palm_ffb.csv)\n"
   ]
  },
  {
   "cell_type": "code",
   "execution_count": 2,
   "metadata": {},
   "outputs": [
    {
     "data": {
      "text/plain": [
       "FFB_Yield             1.000000\n",
       "Average_Templag2      0.363765\n",
       "HA_Harvestedlag2      0.321457\n",
       "Average_Templag3      0.358598\n",
       "HA_Harvestedlag3      0.504340\n",
       "Average_Templag4      0.308133\n",
       "HA_Harvestedlag4      0.588006\n",
       "HA_Harvestedlag5      0.577954\n",
       "HA_Harvestedlag6      0.359143\n",
       "SoilMoisturelag8      0.490984\n",
       "SoilMoisturelag9      0.598872\n",
       "SoilMoisturelag10     0.555050\n",
       "Precipitationlag10    0.406775\n",
       "SoilMoisturelag11     0.315811\n",
       "Precipitationlag11    0.458746\n",
       "Average_Templag13     0.409591\n",
       "Average_Templag14     0.499102\n",
       "Max_Templag14         0.385132\n",
       "Average_Templag15     0.468512\n",
       "Max_Templag15         0.342917\n",
       "HA_Harvestedlag15     0.469515\n",
       "Average_Templag16     0.409239\n",
       "Max_Templag16         0.341978\n",
       "HA_Harvestedlag16     0.543219\n",
       "HA_Harvestedlag17     0.489346\n",
       "HA_Harvestedlag18     0.310773\n",
       "SoilMoisturelag21     0.429758\n",
       "SoilMoisturelag22     0.446148\n",
       "SoilMoisturelag23     0.314183\n",
       "Precipitationlag23    0.355717\n",
       "Name: FFB_Yield, dtype: float64"
      ]
     },
     "metadata": {},
     "output_type": "display_data"
    },
    {
     "data": {
      "text/plain": [
       "HA_Harvested        -0.350222\n",
       "SoilMoisturelag2    -0.379371\n",
       "SoilMoisturelag3    -0.383050\n",
       "SoilMoisturelag4    -0.319214\n",
       "Average_Templag8    -0.527557\n",
       "Average_Templag9    -0.638095\n",
       "Max_Templag9        -0.443184\n",
       "HA_Harvestedlag9    -0.452553\n",
       "Average_Templag10   -0.520753\n",
       "Max_Templag10       -0.445468\n",
       "HA_Harvestedlag10   -0.537247\n",
       "HA_Harvestedlag11   -0.483578\n",
       "SoilMoisturelag13   -0.352174\n",
       "SoilMoisturelag14   -0.498052\n",
       "SoilMoisturelag15   -0.505803\n",
       "SoilMoisturelag16   -0.433719\n",
       "Average_Templag20   -0.422841\n",
       "Average_Templag21   -0.550222\n",
       "Max_Templag21       -0.439658\n",
       "HA_Harvestedlag21   -0.507025\n",
       "Average_Templag22   -0.421464\n",
       "Max_Templag22       -0.421188\n",
       "HA_Harvestedlag22   -0.584855\n",
       "HA_Harvestedlag23   -0.500167\n",
       "Name: FFB_Yield, dtype: float64"
      ]
     },
     "metadata": {},
     "output_type": "display_data"
    }
   ],
   "source": [
    "import pandas as pd\n",
    "def create_lags(dataset,lag=24,months_ahead=1):\n",
    "  newdataset=pd.DataFrame()\n",
    "  newdataset=dataset\n",
    "  for i in range(months_ahead,lag):\n",
    "    lag=dataset.shift(i)\n",
    "    lag.columns= [str(col) + \"lag\" + str(i) for col in lag.columns]   \n",
    "    newdataset=pd.concat([newdataset,lag],axis=1)\n",
    "  return(newdataset)\n",
    "\n",
    "additives=pd.read_csv(\"E:\\\\palm_ffb.csv\")\n",
    "labels=additives['FFB_Yield']\n",
    "del additives['FFB_Yield']\n",
    "features=additives\n",
    "del features['Date']\n",
    "features=create_lags(features,lag=24,months_ahead=1)\n",
    "newset=pd.concat([labels,features],axis=1)\n",
    "corr=newset.corr()['FFB_Yield']\n",
    "positives=corr[corr>0.3]\n",
    "negatives=corr[corr<-0.3]\n",
    "display(positives)\n",
    "display(negatives)\n",
    "\n",
    "\n",
    "#SoilMoisture of Lag 8-10 and 21-23 are positively correlated with FFB_Yield (related with sex differentiation and inflorescence abortion). In addition, SoilMoisture of Lag\n",
    "#2-4 (related with oil synthesis) and 13-16 (unknown why) are negatively correlated with FFB_Yield.\n",
    "\n"
   ]
  },
  {
   "cell_type": "markdown",
   "metadata": {},
   "source": [
    "Answer:\n",
    "SoilMoisture of Lag 8-10 and 21-23 are positively correlated with FFB_Yield (related with sex differentiation and inflorescence abortion). In addition, SoilMoisture of Lag\n",
    "2-4 (related with oil synthesis) and 13-16 (unknown why) are negatively correlated with FFB_Yield.\n"
   ]
  }
 ],
 "metadata": {
  "kernelspec": {
   "display_name": "Python 3",
   "language": "python",
   "name": "python3"
  },
  "language_info": {
   "codemirror_mode": {
    "name": "ipython",
    "version": 3
   },
   "file_extension": ".py",
   "mimetype": "text/x-python",
   "name": "python",
   "nbconvert_exporter": "python",
   "pygments_lexer": "ipython3",
   "version": "3.8.3"
  }
 },
 "nbformat": 4,
 "nbformat_minor": 4
}
